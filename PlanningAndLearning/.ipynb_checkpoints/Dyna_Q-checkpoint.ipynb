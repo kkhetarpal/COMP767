{
 "cells": [
  {
   "cell_type": "markdown",
   "metadata": {
    "colab_type": "text",
    "deletable": true,
    "editable": true,
    "id": "8VACQkcNO4a0"
   },
   "source": []
  },
  {
   "cell_type": "markdown",
   "metadata": {
    "colab_type": "text",
    "deletable": true,
    "editable": true,
    "id": "7wUPVE6hTsOq"
   },
   "source": [
    "# **Problem Statement: **Implement Dyna-Q and reproduce the blocking maze and shortcut maze experiments (see page 135, 136 in Sutton & Barto) in Pycolab."
   ]
  },
  {
   "cell_type": "markdown",
   "metadata": {
    "colab_type": "text",
    "deletable": true,
    "editable": true,
    "id": "MZ0KbuTo027H"
   },
   "source": [
    "## Dyna-Q is an architecture which integrates different modules needed while planning an agent on-line. It provides a platform to integrate learning, planning and acting."
   ]
  },
  {
   "cell_type": "markdown",
   "metadata": {
    "colab_type": "text",
    "deletable": true,
    "editable": true,
    "id": "2I6BG5S6Pwte"
   },
   "source": [
    "**Installing Pycolab and Gym for our work**"
   ]
  },
  {
   "cell_type": "code",
   "execution_count": 53,
   "metadata": {
    "colab": {
     "autoexec": {
      "startup": false,
      "wait_interval": 0
     },
     "base_uri": "https://localhost:8080/",
     "height": 326,
     "output_extras": [
      {
       "item_id": 5
      }
     ]
    },
    "colab_type": "code",
    "collapsed": false,
    "deletable": true,
    "editable": true,
    "executionInfo": {
     "elapsed": 6083,
     "status": "ok",
     "timestamp": 1519718330483,
     "user": {
      "displayName": "Khimya Khetarpal",
      "photoUrl": "//lh4.googleusercontent.com/-N2vm2KOF7iE/AAAAAAAAAAI/AAAAAAAACL8/3K7KcnaQmY0/s50-c-k-no/photo.jpg",
      "userId": "111336538593611088506"
     },
     "user_tz": 300
    },
    "id": "0habow5OQAye",
    "outputId": "0c92b01a-13b8-4db4-a1ac-ace5ec0c1ce8"
   },
   "outputs": [
    {
     "name": "stdout",
     "output_type": "stream",
     "text": [
      "Collecting git+https://github.com/deepmind/pycolab.git\r\n",
      "  Cloning https://github.com/deepmind/pycolab.git to /tmp/pip-AKfsmE-build\n",
      "  Requirement already satisfied (use --upgrade to upgrade): pycolab==1.0 from git+https://github.com/deepmind/pycolab.git in /usr/local/lib/python2.7/dist-packages\n",
      "Requirement already satisfied: numpy>=1.9 in /usr/local/lib/python2.7/dist-packages (from pycolab==1.0)\n",
      "Requirement already satisfied: six in /usr/local/lib/python2.7/dist-packages (from pycolab==1.0)\n",
      "Collecting git+https://github.com/openai/gym.git\n",
      "  Cloning https://github.com/openai/gym.git to /tmp/pip-6gSLlr-build\n",
      "  Requirement already satisfied (use --upgrade to upgrade): gym==0.10.2 from git+https://github.com/openai/gym.git in /usr/local/lib/python2.7/dist-packages\n",
      "Requirement already satisfied: numpy>=1.10.4 in /usr/local/lib/python2.7/dist-packages (from gym==0.10.2)\n",
      "Requirement already satisfied: pyglet>=1.2.0 in /usr/local/lib/python2.7/dist-packages (from gym==0.10.2)\n",
      "Requirement already satisfied: requests>=2.0 in /usr/local/lib/python2.7/dist-packages (from gym==0.10.2)\n",
      "Requirement already satisfied: six in /usr/local/lib/python2.7/dist-packages (from gym==0.10.2)\n",
      "Requirement already satisfied: future in /usr/local/lib/python2.7/dist-packages (from pyglet>=1.2.0->gym==0.10.2)\n",
      "Requirement already satisfied: idna<2.7,>=2.5 in /usr/local/lib/python2.7/dist-packages (from requests>=2.0->gym==0.10.2)\n",
      "Requirement already satisfied: urllib3<1.23,>=1.21.1 in /usr/local/lib/python2.7/dist-packages (from requests>=2.0->gym==0.10.2)\n",
      "Requirement already satisfied: certifi>=2017.4.17 in /usr/local/lib/python2.7/dist-packages (from requests>=2.0->gym==0.10.2)\n",
      "Requirement already satisfied: chardet<3.1.0,>=3.0.2 in /usr/local/lib/python2.7/dist-packages (from requests>=2.0->gym==0.10.2)\n"
     ]
    }
   ],
   "source": [
    "! pip install git+https://github.com/deepmind/pycolab.git\n",
    "! pip install git+https://github.com/openai/gym.git"
   ]
  },
  {
   "cell_type": "markdown",
   "metadata": {
    "colab_type": "text",
    "deletable": true,
    "editable": true,
    "id": "r-Nn4ndW3eqe"
   },
   "source": [
    "# Pycolab Maze Environment with a Gym Wrapper"
   ]
  },
  {
   "cell_type": "code",
   "execution_count": 0,
   "metadata": {
    "colab": {
     "autoexec": {
      "startup": false,
      "wait_interval": 0
     }
    },
    "colab_type": "code",
    "collapsed": true,
    "deletable": true,
    "editable": true,
    "id": "DXOP3C6A1p1O"
   },
   "outputs": [],
   "source": [
    "from __future__ import absolute_import\n",
    "from __future__ import division\n",
    "from __future__ import print_function\n",
    "\n",
    "import curses\n",
    "import sys\n",
    "import gym\n",
    "\n",
    "from pycolab import ascii_art\n",
    "from pycolab import human_ui\n",
    "from pycolab.prefab_parts import sprites as prefab_sprites\n",
    "\n",
    "class PlayerSprite(prefab_sprites.MazeWalker):\n",
    "  \"\"\"A `Sprite` for our player.\n",
    "\n",
    "  This `Sprite` ties actions to going in the four cardinal directions. If we\n",
    "  reach the goal state (0,8), the agent receives a\n",
    "  reward of 1 and the epsiode terminates.\n",
    "  \"\"\"\n",
    "\n",
    "  def __init__(self, corner, position, character):\n",
    "    \"\"\"Inform superclass that we can't walk through walls.\"\"\"\n",
    "    super(PlayerSprite, self).__init__(\n",
    "        corner, position, character, impassable='#', confined_to_board=True)\n",
    "\n",
    "  def update(self, actions, board, layers, backdrop, things, the_plot):\n",
    "    del layers, backdrop, things   # Unused.\n",
    "\n",
    "    # Apply motion commands.\n",
    "    if actions == 0:    # walk upward?\n",
    "      self._north(board, the_plot)\n",
    "    elif actions == 1:  # walk downward?\n",
    "      self._south(board, the_plot)\n",
    "    elif actions == 2:  # walk leftward?\n",
    "      self._west(board, the_plot)\n",
    "    elif actions == 3:  # walk rightward?\n",
    "      self._east(board, the_plot)\n",
    "\n",
    " #   # See if we've found the mystery spot.\n",
    "    if self.position == (0, 8):\n",
    "      the_plot.add_reward(1)\n",
    "      the_plot.terminate_episode()\n",
    "    else:\n",
    "      the_plot.add_reward(0)\n",
    "      \n",
    "\n",
    "# The game art for the case where \n",
    "# the path on the left is open. \n",
    "LEFT_OPEN_GAME_ART = \\\n",
    "           ['        G',\n",
    "            '         ',\n",
    "            '         ',\n",
    "            ' ########',\n",
    "            '         ',\n",
    "            '   P     ']\n",
    "\n",
    "\n",
    "# The game art for the case where \n",
    "# the path on the right is open. \n",
    "RIGHT_OPEN_GAME_ART = \\\n",
    "           ['        G',\n",
    "            '         ',\n",
    "            '         ',\n",
    "            '######## ',\n",
    "            '         ',\n",
    "            '   P     ']\n",
    "        \n",
    "\n",
    "# The game art for the case where the path\n",
    "# on both the right and left are open. \n",
    "BOTH_OPEN_GAME_ART = \\\n",
    "           ['        G',\n",
    "            '         ',\n",
    "            '         ',\n",
    "            ' ####### ',\n",
    "            '         ',\n",
    "            '   P     ']\n",
    "      \n",
    "    \n",
    "def get_game_art(type):\n",
    "  \"\"\" Return game art based on type.\n",
    "      \n",
    "      Args:\n",
    "        type: Type of game art. \n",
    "              left => left open.\n",
    "              right => right open.\n",
    "              both => both left and right open.\n",
    "     \n",
    "     Returns:\n",
    "        The game art based on type.\n",
    "        \n",
    "     Raises:\n",
    "        ValueError if value not in ('left','right', 'both').\n",
    "  \"\"\"\n",
    "  if type == 'left':\n",
    "    return LEFT_OPEN_GAME_ART\n",
    "  if type == 'right':\n",
    "    return RIGHT_OPEN_GAME_ART\n",
    "  if type == 'both':\n",
    "    return BOTH_OPEN_GAME_ART\n",
    "  raise ValueError(\"type must be one of ['left','right', 'both']. Given: \" + type)\n",
    "  \n",
    "    \n",
    "class BlockedMaze(gym.Env):\n",
    "  \"\"\" Gym wrapper around BlockedMaze environment constructed in pycolab.  \n",
    "  \"\"\"\n",
    "  def __init__(self, game_type):\n",
    "    \"\"\" Init BlockedMaze environment.\n",
    "    \n",
    "        Args:\n",
    "          game_type: Possible values (\"left\", \"right\", \"both\").\n",
    "    \"\"\"\n",
    "    self.game_type = game_type\n",
    "    self.game= ascii_art.ascii_art_to_game(\n",
    "                  get_game_art(game_type), what_lies_beneath=' ',\n",
    "                  sprites={'P': PlayerSprite})\n",
    "    self.action_space = range(4)\n",
    "    self.observation_space = range(54)\n",
    "    obs, reward, gamma = self.game.its_showtime()\n",
    "    self.inital_obs = obs\n",
    "  \n",
    "  def step(self, action):\n",
    "    \"\"\" Take given action and return the next state observation and reward.\n",
    "    \"\"\"\n",
    "    obs, reward, gamma = self.game.play(action)\n",
    "    return obs, reward, self.game.game_over, \"\"\n",
    "  \n",
    "  def reset(self):\n",
    "    \"\"\" Resets the game and returns the observation for the start state.\n",
    "    \"\"\"\n",
    "    self.game= ascii_art.ascii_art_to_game(\n",
    "                  get_game_art(self.game_type), what_lies_beneath=' ',\n",
    "                  sprites={'P': PlayerSprite})\n",
    "    obs, reward, gamma = self.game.its_showtime()\n",
    "    self.intial_obs = obs\n",
    "    return obs\n",
    "\n",
    "def obsv2state(obs):\n",
    "  \"\"\" Convert pycolab's observation to int state. \n",
    "      The state is flattened in our case and is (0,54).\n",
    "  \n",
    "      Args:\n",
    "        obs: Pycolab's Observation object. \n",
    "        \n",
    "      Returns:\n",
    "        Integer state from (0,54). \n",
    "  \"\"\"\n",
    "  state = np.array(obs.layers['P'], dtype=np.float).flatten()\n",
    "  states = np.flatnonzero(state)\n",
    "  assert len(states) == 1, \"There should be just one P.\"\n",
    "  return states[0]\n",
    "\n"
   ]
  },
  {
   "cell_type": "markdown",
   "metadata": {
    "colab_type": "text",
    "deletable": true,
    "editable": true,
    "id": "V2YJqtnX1rgL"
   },
   "source": [
    "# Dyna-Q Algorithm Implementation"
   ]
  },
  {
   "cell_type": "code",
   "execution_count": 0,
   "metadata": {
    "colab": {
     "autoexec": {
      "startup": false,
      "wait_interval": 0
     }
    },
    "colab_type": "code",
    "collapsed": true,
    "deletable": true,
    "editable": true,
    "id": "H0ByyxpBHcFb"
   },
   "outputs": [],
   "source": [
    "import matplotlib.pyplot as plt\n",
    "import numpy as np\n",
    "\n",
    "def plot(x,y,xlabel,ylabel, legend, title):\n",
    "  \"\"\"Plots y vs x marking x-axis with xlabel and y-axis with ylabel.\n",
    "     \n",
    "     Args:\n",
    "      x: 1-D array like data to be plotted on x-axis.\n",
    "      y: 1-D array like data to be plotted on y-axis.\n",
    "      xlabel: Label for x-axis.\n",
    "      ylabel: Label for y-axis.\n",
    "  \"\"\"\n",
    "  plt.plot(x,y, linewidth=3, color=\"red\")\n",
    "  plt.xlabel(xlabel, fontsize=14)\n",
    "  plt.ylabel(ylabel, fontsize=14)\n",
    "  plt.title(title, fontsize=14)\n",
    "  plt.legend(legend, prop={'size': 16}, loc='upper left', fancybox=True, framealpha=0.5)\n",
    "  plt.show()"
   ]
  },
  {
   "cell_type": "code",
   "execution_count": 0,
   "metadata": {
    "colab": {
     "autoexec": {
      "startup": false,
      "wait_interval": 0
     }
    },
    "colab_type": "code",
    "collapsed": true,
    "deletable": true,
    "editable": true,
    "id": "VtLGyQTj-gQh"
   },
   "outputs": [],
   "source": [
    "from pycolab.examples.classics import four_rooms as env\n",
    "from pycolab.rendering import ObservationToFeatureArray\n",
    "import numpy as np\n",
    "import random\n",
    "import matplotlib.pyplot as plt\n",
    "\n",
    "# Hyper parameters for expirements.\n",
    "params = {\n",
    "    'gamma': 0.95,\n",
    "    'alpha': 0.1,\n",
    "    'epsilon': 0.1,\n",
    "    'episodes': 200, \n",
    "    'runs': 10, \n",
    "    'max_steps': 3000\n",
    "}\n",
    "\n",
    "# Range of planning steps to try.\n",
    "planning_nsteps = [0, 5, 50]\n",
    "\n",
    "class Model(object):\n",
    "  \"\"\"Model class that returns next state, observation \n",
    "      when presented with current state and action.\"\"\"\n",
    "  \n",
    "  def __init__(self):\n",
    "    \"\"\"Init model class\"\"\"\n",
    "    self.model = {} # (state, action) -> (next_state, reward)\n",
    "    \n",
    "  def set(self, state, action, next_state, reward):\n",
    "    \"\"\" Store (next_state, reward) information for given (state, action).\n",
    "        \n",
    "        Args:\n",
    "          state: int-type value of current state.\n",
    "          action: int-type value of current action.\n",
    "          next_state: int-type next state returned by the environment when \n",
    "                        action is presented.\n",
    "          reward: float-type reward returned by the environment when action is \n",
    "                    presented.\n",
    "    \"\"\"\n",
    "    self.model[(state, action)] = (next_state, reward)\n",
    "   \n",
    "  def get(self, state, action):\n",
    "    \"\"\" Returns next_state, reward stored for (state, action). \n",
    "        If no entry found for (state, action), it returns (None, None).\n",
    "        This should never happen.\n",
    "        \n",
    "        Args:\n",
    "          state: int-type value of the current state.\n",
    "          action: int-type value of the action action.\n",
    "          \n",
    "        Returns:\n",
    "          next_state: int-type value for the next_state most recently seen for \n",
    "                        (state, action) pair.\n",
    "          reward: float-type value for the reward most recently seen for \n",
    "                        (state, action) pair.\n",
    "    \"\"\"\n",
    "    return self.model.get((state, action), (None, None))\n",
    "  \n",
    "  def keys(self):\n",
    "    \"Return all the (state, action) pair stored in model.\"\n",
    "    return self.model.keys()\n",
    "   \n",
    "  def reset(self):\n",
    "    \"Clear the model. Delete all stored (state, action) pairs.\"\n",
    "    self.model.clear()\n",
    "    \n",
    "class DynaQ(object):\n",
    "  \"\"\"DynaQ implementation class. run(.) method runs the DynaQ algorithm.\"\"\"\n",
    " \n",
    "  def __init__(self, params, model, action_space, state_space, rng):\n",
    "    \"\"\" Init DynaQ object\n",
    "    \n",
    "        Args:\n",
    "          params: Hyperparameters for the DynaQ model.\n",
    "          model: Model of the world.\n",
    "          action_spaces: 1D int array. Range of possible actions.\n",
    "          state_space: 1D int array. Range of possible states.\n",
    "          rng: Random Number Generator.\n",
    "    \"\"\"\n",
    "    self.params = params\n",
    "    self.model = model\n",
    "    self.rng = rng\n",
    "    \n",
    "    self.action_space = action_space\n",
    "    self.state_space = state_space\n",
    "    \n",
    "    self.Q = np.zeros((len(self.state_space), len(self.action_space)))\n",
    "    \n",
    "  def run(self, initial_state, maze, planning_nsteps=0):\n",
    "    \"\"\"Run DynaQ algorithm. \n",
    "       \n",
    "       Args:\n",
    "          initial_state: Value on the start state.\n",
    "          maze: Gym type object of one of the mazes.\n",
    "          planning_nsteps: Number of times to do planning.\n",
    "    \"\"\"\n",
    "    state = initial_state\n",
    "    step = 0\n",
    "    totalreward = 0\n",
    "    done = False\n",
    "    while not done:\n",
    "      step += 1\n",
    "      action = self._get_action(state)\n",
    "      state, reward, done = self._run_step(state, action, maze, planning_nsteps)\n",
    "      totalreward += reward\n",
    "    return step, totalreward\n",
    "  \n",
    "  def _run_step(self, state, action, maze, planning_nsteps):\n",
    "    \"\"\" Run a single DynaQ step. \n",
    "        This function samples the environment, updates the Q value,\n",
    "        updates the model and then uses model to update Q value planning_nsteps\n",
    "        time.\n",
    "        \n",
    "        Args:\n",
    "          state: Current state on the world.\n",
    "          action: Action to be taken.\n",
    "          maze: Gym type object of one of the mazes.\n",
    "          planning_nsteps: Number of times to do planning.\n",
    "    \"\"\"\n",
    "    obs, orig_reward, done, _ = maze.step(action)\n",
    "    next_state = obsv2state(obs)\n",
    "    self._updateQ(state, action, orig_reward, next_state)\n",
    "    self.model.set(state, action, next_state, orig_reward)\n",
    "    \n",
    "    for n in range(planning_nsteps):\n",
    "      obs_state_actions = self.model.keys()\n",
    "      index = self.rng.choice(len(obs_state_actions))\n",
    "      state, action = obs_state_actions[index]\n",
    "      new_state, reward = self.model.get(state, action)\n",
    "      self._updateQ(state, action, reward, new_state)\n",
    "      \n",
    "    return next_state, orig_reward, done\n",
    "\n",
    "  def _updateQ(self, state, action, reward, next_state):\n",
    "    \"\"\" This functions updates the Q value. \n",
    "          Q_{t+1}(s,a) = Q_t{s,a} + \\alpha * (r + \\gamma * max_a{Q_t(s,a)} -Q_t(s,a))\n",
    "          \n",
    "        Args:\n",
    "          state: Current state of the world.\n",
    "          action: Current action chosen.\n",
    "          reward: Reward for taking action in state.\n",
    "          next_state: The next state to transition to.\n",
    "    \"\"\"\n",
    "    self.Q[state, action] = self.Q[state, action] + \\\n",
    "                            self.params['alpha'] * \\\n",
    "                              (reward + \\\n",
    "                               self.params['gamma'] * np.max(self.Q[next_state, :]) - \\\n",
    "                               self.Q[state, action])\n",
    "  \n",
    "  def _get_action(self, state):\n",
    "    \"\"\" Choose action for state with a \\epsilon-greedy policy.\n",
    "        \n",
    "        Args:\n",
    "          state: Current state of the world.\n",
    "    \"\"\"\n",
    "    if self.rng.uniform() < self.params['epsilon']:\n",
    "      return self.rng.choice(self.action_space)\n",
    "    q_vals = self.Q[state]\n",
    "    q_max = np.max(q_vals)\n",
    "    return self.rng.choice([action for action, value in enumerate(q_vals) if value == q_max])\n",
    "    \n",
    "  def reset(self):\n",
    "    \"\"\" Reset the DynaQ algorithms. \n",
    "        This resets the model and resets the Q values.\n",
    "    \"\"\"\n",
    "    self.model.reset()\n",
    "    self.Q.fill(0)"
   ]
  },
  {
   "cell_type": "markdown",
   "metadata": {
    "colab_type": "text",
    "deletable": true,
    "editable": true,
    "id": "q-stTWvHQf_X"
   },
   "source": [
    "# Simple Dyna-Q Maze: Variant of Example 8.1 with Left Blocking Maze"
   ]
  },
  {
   "cell_type": "code",
   "execution_count": 57,
   "metadata": {
    "colab": {
     "autoexec": {
      "startup": false,
      "wait_interval": 0
     },
     "base_uri": "https://localhost:8080/",
     "height": 484,
     "output_extras": [
      {
       "item_id": 4
      },
      {
       "item_id": 5
      }
     ]
    },
    "colab_type": "code",
    "collapsed": false,
    "deletable": true,
    "editable": true,
    "executionInfo": {
     "elapsed": 64695,
     "status": "ok",
     "timestamp": 1519718451404,
     "user": {
      "displayName": "Khimya Khetarpal",
      "photoUrl": "//lh4.googleusercontent.com/-N2vm2KOF7iE/AAAAAAAAAAI/AAAAAAAACL8/3K7KcnaQmY0/s50-c-k-no/photo.jpg",
      "userId": "111336538593611088506"
     },
     "user_tz": 300
    },
    "id": "IBBaVPwiQV4n",
    "outputId": "655bdd7f-00b2-487e-8768-1d1fa860ee0b"
   },
   "outputs": [
    {
     "name": "stdout",
     "output_type": "stream",
     "text": [
      "Running Agent For Planning n-steps: 0\n",
      "Running Agent For Planning n-steps: 5\n",
      "Running Agent For Planning n-steps: 50\n",
      "The figure below shows the average learning curves for Dyna-Q agents varying in their number of planning steps (n) per real step.\n",
      "           \n",
      "           \n"
     ]
    },
    {
     "data": {
      "image/png": "[encoded data removed]",
      "text/plain": [
       "<matplotlib.figure.Figure at 0x7f23914a5850>"
      ]
     },
     "metadata": {
      "tags": []
     },
     "output_type": "display_data"
    }
   ],
   "source": [
    "model = Model()\n",
    "\n",
    "left_open_maze = BlockedMaze('left')\n",
    "\n",
    "legend = []\n",
    "\n",
    "for planning_nstep in planning_nsteps:\n",
    "  print(\"Running Agent For Planning n-steps: %d\" % planning_nstep)\n",
    "  total_steps = np.zeros((params['runs'], params['episodes']))\n",
    "  for run in range(params['runs']):\n",
    "    dynaQ = DynaQ(params, model, left_open_maze.action_space, left_open_maze.observation_space, np.random)\n",
    "\n",
    "    for episode in range(params['episodes']):\n",
    "      obs = left_open_maze.reset()\n",
    "      initial_state = obsv2state(obs)\n",
    "      steps, totalreward = dynaQ.run(initial_state, left_open_maze, planning_nstep)\n",
    "      total_steps[run, episode] = steps\n",
    "  episodes_index = np.linspace(0, params['episodes'], params['episodes'], endpoint=True)    \n",
    "  temp = \"N Steps = {:}\".format(planning_nstep)\n",
    "  legend.append(temp)\n",
    "  plt.plot(episodes_index, np.average(total_steps, axis=0), linewidth=3)\n",
    "  \n",
    "plt.xlabel(\"Episodes\", fontsize=14)\n",
    "plt.ylabel(\"Steps\", fontsize=14)\n",
    "plt.title(\"Average learning curves for Dyna-Q agents\", fontsize=14)\n",
    "plt.legend(legend, prop={'size': 16}, loc='upper right', fancybox=True, framealpha=0.5)\n",
    "print(\"The figure below shows the average learning curves for Dyna-Q agents varying in their number of planning steps (n) per real step.\")\n",
    "print(\"           \")\n",
    "print(\"           \")\n",
    "plt.show()"
   ]
  },
  {
   "cell_type": "markdown",
   "metadata": {
    "colab_type": "text",
    "deletable": true,
    "editable": true,
    "id": "z674kPBPdD0d"
   },
   "source": [
    "**Results & Analysis:** As expected, the non-planning agent i.e. planning with nsteps = 0 took approximately 25 episodes to reach the optimal performance, whereas the agent planning with n-steps = 5 and 50 took approximately 5 and 2 episodes roughly. It is observed here planning with n steps help learn faster as opposed to direct learning."
   ]
  },
  {
   "cell_type": "markdown",
   "metadata": {
    "colab_type": "text",
    "deletable": true,
    "editable": true,
    "id": "dgsglzY1Fsg7"
   },
   "source": [
    "# **Blocking Maze Experiment**\n",
    "\n",
    "---\n",
    "\n"
   ]
  },
  {
   "cell_type": "code",
   "execution_count": 58,
   "metadata": {
    "colab": {
     "autoexec": {
      "startup": false,
      "wait_interval": 0
     },
     "base_uri": "https://localhost:8080/",
     "height": 416,
     "output_extras": [
      {
       "item_id": 1
      },
      {
       "item_id": 2
      }
     ]
    },
    "colab_type": "code",
    "collapsed": false,
    "deletable": true,
    "editable": true,
    "executionInfo": {
     "elapsed": 21281,
     "status": "ok",
     "timestamp": 1519718484307,
     "user": {
      "displayName": "Khimya Khetarpal",
      "photoUrl": "//lh4.googleusercontent.com/-N2vm2KOF7iE/AAAAAAAAAAI/AAAAAAAACL8/3K7KcnaQmY0/s50-c-k-no/photo.jpg",
      "userId": "111336538593611088506"
     },
     "user_tz": 300
    },
    "id": "SoTKa8R3_1r1",
    "outputId": "20ea5746-123c-483f-8ed6-88e961ad45de"
   },
   "outputs": [
    {
     "name": "stdout",
     "output_type": "stream",
     "text": [
      "For Planning n-steps: 10\n",
      "\n"
     ]
    },
    {
     "data": {
      "image/png": "[encoded data removed]",
      "text/plain": [
       "<matplotlib.figure.Figure at 0x7f23a5f8af90>"
      ]
     },
     "metadata": {
      "tags": []
     },
     "output_type": "display_data"
    }
   ],
   "source": [
    "model = Model()\n",
    "\n",
    "left_open_maze = BlockedMaze('left')\n",
    "right_open_maze = BlockedMaze('right')\n",
    "\n",
    "planning_nsteps = 10\n",
    "print(\"For Planning n-steps: %d\" % planning_nsteps)\n",
    "print(\"\")\n",
    "\n",
    "params['alpha'] = 0.7\n",
    "params['runs'] = 20\n",
    "params['episodes'] = 1000\n",
    "params['max_steps'] = 3000\n",
    " \n",
    "rewards = np.zeros((params['runs'], params['max_steps']))\n",
    "\n",
    "for run in range(params['runs']):\n",
    "  cumulativereward = 0\n",
    "  timesteps = 0\n",
    "  last_steps = 0\n",
    "  dynaQ = DynaQ(params, model, right_open_maze.action_space, left_open_maze.observation_space, np.random.RandomState(run))\n",
    "  for episode in range(params['episodes']):\n",
    "    if timesteps <= 1000:\n",
    "      maze = right_open_maze\n",
    "    elif timesteps > 1000:\n",
    "      maze = left_open_maze \n",
    "\n",
    "    obs = maze.reset()\n",
    "    initial_state = obsv2state(obs)\n",
    "    steps, totalreward = dynaQ.run(initial_state, maze, planning_nsteps)\n",
    "    timesteps += steps\n",
    "   \n",
    "    if timesteps > params['max_steps']:\n",
    "      break\n",
    "     \n",
    "    cumulativereward += totalreward\n",
    "    rewards[run, timesteps:] = cumulativereward\n",
    "   \n",
    "\n",
    "plot(range(0, params['max_steps']), np.average(rewards, axis=0), \"Time Steps\", \"Cumulative Reward\", \n",
    "       [\"Dyna Q\"], \"Blocking Maze Task: Average cumulative reward for Dyna-Q agents\")"
   ]
  },
  {
   "cell_type": "markdown",
   "metadata": {
    "colab_type": "text",
    "deletable": true,
    "editable": true,
    "id": "SegwHn3SoGsP"
   },
   "source": [
    "**Results & Analysis:** Similar to the experiments in the Sutton book, we observe that the first part of the graph indicates that  Dyna agents found the short path within 1000 steps. However, when the environment changed, the graphs become flat, \"indicating a period during which the agents obtained no reward because they were wandering around behind the barrier. After a while, however, they were able to find the new opening and the new optimal behavior.\"\""
   ]
  },
  {
   "cell_type": "markdown",
   "metadata": {
    "colab_type": "text",
    "deletable": true,
    "editable": true,
    "id": "jKu6yFb_GGzf"
   },
   "source": [
    "# Shortcut Maze Experiment"
   ]
  },
  {
   "cell_type": "code",
   "execution_count": 59,
   "metadata": {
    "colab": {
     "autoexec": {
      "startup": false,
      "wait_interval": 0
     },
     "base_uri": "https://localhost:8080/",
     "height": 416,
     "output_extras": [
      {
       "item_id": 1
      },
      {
       "item_id": 2
      }
     ]
    },
    "colab_type": "code",
    "collapsed": false,
    "deletable": true,
    "editable": true,
    "executionInfo": {
     "elapsed": 28500,
     "status": "ok",
     "timestamp": 1519718537049,
     "user": {
      "displayName": "Khimya Khetarpal",
      "photoUrl": "//lh4.googleusercontent.com/-N2vm2KOF7iE/AAAAAAAAAAI/AAAAAAAACL8/3K7KcnaQmY0/s50-c-k-no/photo.jpg",
      "userId": "111336538593611088506"
     },
     "user_tz": 300
    },
    "id": "WSKGERb1GGij",
    "outputId": "762d37ac-0d50-4d9a-f974-d521ee78153a"
   },
   "outputs": [
    {
     "name": "stdout",
     "output_type": "stream",
     "text": [
      "For Planning n-steps: 50\n",
      "       \n"
     ]
    },
    {
     "data": {
      "image/png": "[encoded data removed]",
      "text/plain": [
       "<matplotlib.figure.Figure at 0x7f23a9033650>"
      ]
     },
     "metadata": {
      "tags": []
     },
     "output_type": "display_data"
    }
   ],
   "source": [
    "model = Model()\n",
    "\n",
    "left_open_maze = BlockedMaze('left')\n",
    "both_open_maze = BlockedMaze('both')\n",
    "\n",
    "planning_nsteps = 50\n",
    "print(\"For Planning n-steps: %d\" % planning_nsteps)\n",
    "print(\"       \")\n",
    "\n",
    "params['alpha'] = 0.7\n",
    "params['runs'] = 5\n",
    "params['episodes'] = 1000\n",
    "params['max_steps'] = 6000\n",
    " \n",
    "rewards = np.zeros((params['runs'], params['max_steps']))\n",
    "\n",
    "for run in range(params['runs']):\n",
    "  cumulativereward = 0\n",
    "  timesteps = 0\n",
    "  last_steps = 0\n",
    "  dynaQ = DynaQ(params, model, left_open_maze.action_space, left_open_maze.observation_space, np.random.RandomState(run))\n",
    "  for episode in range(params['episodes']):\n",
    "    if timesteps <= 3000:\n",
    "      maze = left_open_maze\n",
    "    elif timesteps > 3000:\n",
    "      maze = both_open_maze \n",
    "\n",
    "    obs = maze.reset()\n",
    "    initial_state = obsv2state(obs)\n",
    "    steps, totalreward = dynaQ.run(initial_state, maze, planning_nsteps)\n",
    "    timesteps += steps\n",
    "    \n",
    "    if timesteps > params['max_steps']:\n",
    "      break\n",
    "      \n",
    "    cumulativereward += totalreward\n",
    "    rewards[run, timesteps:] = cumulativereward\n",
    "   \n",
    "\n",
    "plot(range(0, params['max_steps']), np.average(rewards, axis=0), \"Time Steps\", \"Cumulative Reward\", \n",
    "      [\"Dyna Q\"], \"Shortcut Maze Task: Average cumulative reward for Dyna-Q agents\")"
   ]
  },
  {
   "cell_type": "markdown",
   "metadata": {
    "colab_type": "text",
    "deletable": true,
    "editable": true,
    "id": "aRrO-a7jelon"
   },
   "source": [
    "# Read about Lin’s experience replay. How is the above deterministic model update in Dyna-Q related to experience replay ? \n"
   ]
  },
  {
   "cell_type": "markdown",
   "metadata": {
    "colab_type": "text",
    "deletable": true,
    "editable": true,
    "id": "LjoYeVmoesC8"
   },
   "source": [
    "Traditionally, in a model-free set up, reinforcement learning algorithms learn by interacting with the environment directly. In doing so, they throw away all the data they interact with. Model-based RL algorithms and experience replay buffers do not throw away this data and instead use this experience in different ways.\n",
    "\n",
    "\n",
    "\n",
    "The primary similarity between Lin's experience replay and the determinstic model update in Dyna-Q is that both approaches reuse past experiences. Interacting with the environment is time consuming and costly. Lin et al. defined 'experience' as a quadruple, (s,a,s',r). 'Experience replay' was then defined as remembering past experiences by recording and storing such experiences, and replaying these experiences in a temporal order. \n",
    "\n",
    "\n",
    "\n",
    "Similarly, the determinstic model update in Dyna-Q algorithm records and maintains an action model. In Dyna-Q, the model M is similar to an action model as defined in Lin et al. Model M is a function from a state and action (s,a), to the next state and immediate reward (a,r). Dyna-Q builds a model to simulate and generate new data (Sutton, 1990; Sutton et al., 2008). This method, however, induces both extra computation cost and modeling error for the data. Experience replay presents the stored experiences to the agent as if it were to experience them again every time it is used. \n",
    "\n",
    "\n",
    "\n",
    "---"
   ]
  }
 ],
 "metadata": {
  "colab": {
   "collapsed_sections": [],
   "default_view": {},
   "name": "Dyna-Q.ipynb",
   "provenance": [],
   "version": "0.3.2",
   "views": {}
  },
  "kernelspec": {
   "display_name": "Python 2",
   "language": "python",
   "name": "python2"
  },
  "language_info": {
   "codemirror_mode": {
    "name": "ipython",
    "version": 2
   },
   "file_extension": ".py",
   "mimetype": "text/x-python",
   "name": "python",
   "nbconvert_exporter": "python",
   "pygments_lexer": "ipython2",
   "version": "2.7.14"
  }
 },
 "nbformat": 4,
 "nbformat_minor": 0
}
